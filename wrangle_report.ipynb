{
 "cells": [
  {
   "cell_type": "markdown",
   "metadata": {},
   "source": [
    "## Reporting: wrangle_report"
   ]
  },
  {
   "cell_type": "markdown",
   "metadata": {},
   "source": [
    "The data used in this analysis was gotten from three different sources\n",
    "- A csv(comma separated values) file Twitter archive dataset which was readily available in the local environment named df_archive\n",
    "- A tsv (Tab separated values) file holding predictions data of tweets from the @WeRateDogs twitter account. The Dataframe was named df_pred\n",
    "- Data gotten through the twitter API using the tweepy library. it was named df_twt\n",
    "\n",
    "Since the data were from different sources. it was expected to have some issues of data cleanliness. Having that in mind, i merged the 3 dataframes into 1 and named it **df_master** using their common attribute which is the tweet_id.\n",
    "The df_master was assessed programatically and visually to check for issues of quality and tidiness. Some of the issues discovered are highlighted below:\n",
    "###### - Missing data\n",
    "###### - wrong Data type\n",
    "###### - complex data representation\n",
    "###### - outliers in some of the columns input\n",
    "###### - Not all tweets are dog ratings\n",
    "\n",
    "- I Made a copy of the master dataframe and named it df_master_copy. \n",
    "- I Dropped columns with missing data and columns associated with retweets as they were not valuable to the Analysis. - I Converted columns with wrong datatypes to their appropriate datatypes.\n",
    "- The columns with complex data representations are columns associated with [Doggolingo](https://zippypaws.com/blog/doggolingo-101-internet-language-of-the-dogs/) dog classification and data associated with prediction/classification of dog breeds. In both cases, the columns were made into one meaningful column.\n",
    "- In bid to rate more than one dog in a picture as one rating, @WeRateDog adopted a rating system(different from the standard) to accomodate all dogs in such picture by adding all the rating numerator of each dog as rating_numerator and multiplying the number of dogs by 10 as rating_denominator. E.g a picture of 5 dogs with rating of 12 each will be represented as 60/50. This system was what led to the anomalies found in those columns. The affected rows were assessed and modified by appending the average of the given rating_numerator.\n",
    "- Lastly, the columns that were predicted not to be dog i.e rows with p1_dog, p2_dog and p3_dog as all False were eliminated.\n"
   ]
  }
 ],
 "metadata": {
  "kernelspec": {
   "display_name": "Python 3",
   "language": "python",
   "name": "python3"
  },
  "language_info": {
   "codemirror_mode": {
    "name": "ipython",
    "version": 3
   },
   "file_extension": ".py",
   "mimetype": "text/x-python",
   "name": "python",
   "nbconvert_exporter": "python",
   "pygments_lexer": "ipython3",
   "version": "3.6.3"
  }
 },
 "nbformat": 4,
 "nbformat_minor": 2
}
